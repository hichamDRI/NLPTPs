{
 "cells": [
  {
   "cell_type": "code",
   "execution_count": 5,
   "id": "7f609f53",
   "metadata": {},
   "outputs": [],
   "source": [
    "paragraph=\"\"\"Perhaps one of the most significant advances made by Arabic mathematics began at this time with the work of al-Khwarizmi,namely the beginnings of algebra. It is important to understand just how significant this new idea was. It was a revolutionary move away from the Greek concept of mathematics which was essentially geometry. Algebra was a unifying theory which allowed rational numbers, irrational numbers, geometrical magnitudes, etc., to all be treated as \"algebraic objects\". It gave mathematics a whole new development path so much broader in concept to that which had existed before, and provided a vehicle for future development of the subject. Another important aspect of the introduction of algebraic ideas was that it allowed mathematics to be applied to itself in a way which had not happened before.\"\"\""
   ]
  },
  {
   "cell_type": "code",
   "execution_count": 10,
   "id": "e639782d",
   "metadata": {},
   "outputs": [
    {
     "name": "stdout",
     "output_type": "stream",
     "text": [
      "perhaps one of the most significant advances made by arabic mathematics began at this time with the work of al-khwarizmi,namely the beginnings of algebra. it is important to understand just how significant this new idea was. it was a revolutionary move away from the greek concept of mathematics which was essentially geometry. algebra was a unifying theory which allowed rational numbers, irrational numbers, geometrical magnitudes, etc., to all be treated as \"algebraic objects\". it gave mathematics a whole new development path so much broader in concept to that which had existed before, and provided a vehicle for future development of the subject. another important aspect of the introduction of algebraic ideas was that it allowed mathematics to be applied to itself in a way which had not happened before.\n"
     ]
    }
   ],
   "source": [
    "paragraph=paragraph.lower()\n",
    "print(paragraph)"
   ]
  },
  {
   "cell_type": "code",
   "execution_count": 12,
   "id": "304ba4ab",
   "metadata": {},
   "outputs": [
    {
     "name": "stdout",
     "output_type": "stream",
     "text": [
      "['perhaps one of the most significant advances made by arabic mathematics began at this time with the work of al-khwarizmi,namely the beginnings of algebra.', 'it is important to understand just how significant this new idea was.', 'it was a revolutionary move away from the greek concept of mathematics which was essentially geometry.', 'algebra was a unifying theory which allowed rational numbers, irrational numbers, geometrical magnitudes, etc., to all be treated as \"algebraic objects\".', 'it gave mathematics a whole new development path so much broader in concept to that which had existed before, and provided a vehicle for future development of the subject.', 'another important aspect of the introduction of algebraic ideas was that it allowed mathematics to be applied to itself in a way which had not happened before.']\n"
     ]
    }
   ],
   "source": [
    "import nltk.data\n",
    "\n",
    "tokenizer = nltk.data.load('tokenizers/punkt/english.pickle')\n",
    "tokenized_paragraph=tokenizer.tokenize(paragraph)\n",
    "print(tokenized_paragraph)"
   ]
  },
  {
   "cell_type": "code",
   "execution_count": null,
   "id": "6bab39da",
   "metadata": {},
   "outputs": [],
   "source": [
    "import string\n",
    "string.punctuation"
   ]
  },
  {
   "cell_type": "markdown",
   "id": "907d7c73",
   "metadata": {},
   "source": [
    "## Count Vectorization"
   ]
  },
  {
   "cell_type": "code",
   "execution_count": 17,
   "id": "d9ef8845",
   "metadata": {},
   "outputs": [
    {
     "name": "stdout",
     "output_type": "stream",
     "text": [
      "(6, 83)\n",
      "   advances  al  algebra  algebraic  all  allowed  and  another  applied  \\\n",
      "0         1   1        1          0    0        0    0        0        0   \n",
      "1         0   0        0          0    0        0    0        0        0   \n",
      "2         0   0        0          0    0        0    0        0        0   \n",
      "3         0   0        1          1    1        1    0        0        0   \n",
      "4         0   0        0          0    0        0    1        0        0   \n",
      "5         0   0        0          1    0        1    0        1        1   \n",
      "\n",
      "   arabic  ...  treated  understand  unifying  vehicle  was  way  which  \\\n",
      "0       1  ...        0           0         0        0    0    0      0   \n",
      "1       0  ...        0           1         0        0    1    0      0   \n",
      "2       0  ...        0           0         0        0    2    0      1   \n",
      "3       0  ...        1           0         1        0    1    0      1   \n",
      "4       0  ...        0           0         0        1    0    0      1   \n",
      "5       0  ...        0           0         0        0    1    1      1   \n",
      "\n",
      "   whole  with  work  \n",
      "0      0     1     1  \n",
      "1      0     0     0  \n",
      "2      0     0     0  \n",
      "3      0     0     0  \n",
      "4      1     0     0  \n",
      "5      0     0     0  \n",
      "\n",
      "[6 rows x 83 columns]\n"
     ]
    }
   ],
   "source": [
    "from sklearn.feature_extraction.text import CountVectorizer\n",
    "import pandas as pd\n",
    "\n",
    "vectorizer = CountVectorizer()\n",
    "features_cv = vectorizer.fit_transform(tokenized_paragraph)\n",
    "print(features_cv.shape)\n",
    "'''print('Sparse Matrix :\\n', features_cv)'''\n",
    "features_cv = pd.DataFrame(features_cv.toarray())\n",
    "features_cv.columns = vectorizer.get_feature_names()\n",
    "print(features_cv)"
   ]
  },
  {
   "cell_type": "markdown",
   "id": "07c6244a",
   "metadata": {},
   "source": [
    "## N-Grams Vectorization"
   ]
  },
  {
   "cell_type": "code",
   "execution_count": 19,
   "id": "854d8041",
   "metadata": {},
   "outputs": [
    {
     "name": "stdout",
     "output_type": "stream",
     "text": [
      "(6, 314)\n",
      "Sparse Matrix :\n",
      "   (0, 213)\t1\n",
      "  (0, 207)\t1\n",
      "  (0, 195)\t3\n",
      "  (0, 239)\t3\n",
      "  (0, 169)\t1\n",
      "  (0, 225)\t1\n",
      "  (0, 0)\t1\n",
      "  (0, 154)\t1\n",
      "  (0, 62)\t1\n",
      "  (0, 30)\t1\n",
      "  (0, 160)\t1\n",
      "  (0, 53)\t1\n",
      "  (0, 39)\t1\n",
      "  (0, 254)\t1\n",
      "  (0, 259)\t1\n",
      "  (0, 308)\t1\n",
      "  (0, 311)\t1\n",
      "  (0, 3)\t1\n",
      "  (0, 151)\t1\n",
      "  (0, 178)\t1\n",
      "  (0, 56)\t1\n",
      "  (0, 6)\t1\n",
      "  (0, 214)\t1\n",
      "  (0, 208)\t1\n",
      "  (0, 203)\t1\n",
      "  :\t:\n",
      "  (5, 108)\t1\n",
      "  (5, 26)\t1\n",
      "  (5, 119)\t1\n",
      "  (5, 38)\t1\n",
      "  (5, 204)\t1\n",
      "  (5, 245)\t1\n",
      "  (5, 129)\t1\n",
      "  (5, 200)\t1\n",
      "  (5, 11)\t1\n",
      "  (5, 116)\t1\n",
      "  (5, 291)\t1\n",
      "  (5, 236)\t1\n",
      "  (5, 138)\t1\n",
      "  (5, 18)\t1\n",
      "  (5, 164)\t1\n",
      "  (5, 266)\t1\n",
      "  (5, 47)\t1\n",
      "  (5, 29)\t1\n",
      "  (5, 268)\t1\n",
      "  (5, 147)\t1\n",
      "  (5, 126)\t1\n",
      "  (5, 296)\t1\n",
      "  (5, 302)\t1\n",
      "  (5, 106)\t1\n",
      "  (5, 188)\t1\n",
      "   advances  advances made  advances made by  al  al khwarizmi  \\\n",
      "0         1              1                 1   1             1   \n",
      "1         0              0                 0   0             0   \n",
      "2         0              0                 0   0             0   \n",
      "3         0              0                 0   0             0   \n",
      "4         0              0                 0   0             0   \n",
      "5         0              0                 0   0             0   \n",
      "\n",
      "   al khwarizmi namely  algebra  algebra was  algebra was unifying  algebraic  \\\n",
      "0                    1        1            0                     0          0   \n",
      "1                    0        0            0                     0          0   \n",
      "2                    0        0            0                     0          0   \n",
      "3                    0        1            1                     1          1   \n",
      "4                    0        0            0                     0          0   \n",
      "5                    0        0            0                     0          1   \n",
      "\n",
      "   ...  which was essentially  whole  whole new  whole new development  with  \\\n",
      "0  ...                      0      0          0                      0     1   \n",
      "1  ...                      0      0          0                      0     0   \n",
      "2  ...                      1      0          0                      0     0   \n",
      "3  ...                      0      0          0                      0     0   \n",
      "4  ...                      0      1          1                      1     0   \n",
      "5  ...                      0      0          0                      0     0   \n",
      "\n",
      "   with the  with the work  work  work of  work of al  \n",
      "0         1              1     1        1           1  \n",
      "1         0              0     0        0           0  \n",
      "2         0              0     0        0           0  \n",
      "3         0              0     0        0           0  \n",
      "4         0              0     0        0           0  \n",
      "5         0              0     0        0           0  \n",
      "\n",
      "[6 rows x 314 columns]\n"
     ]
    }
   ],
   "source": [
    "ngram_vect = CountVectorizer(ngram_range=(1,3))\n",
    "features_ng = ngram_vect.fit_transform(tokenized_paragraph)\n",
    "print(features_ng.shape)\n",
    "#print('Sparse Matrix :\\n', features_ng)\n",
    "features_ng = pd.DataFrame(features_ng.toarray())\n",
    "features_ng.columns = ngram_vect.get_feature_names()\n",
    "print(features_ng)"
   ]
  },
  {
   "cell_type": "markdown",
   "id": "bff92e4b",
   "metadata": {},
   "source": [
    "##  TF-IDF"
   ]
  },
  {
   "cell_type": "code",
   "execution_count": 22,
   "id": "ad0f995a",
   "metadata": {},
   "outputs": [
    {
     "name": "stdout",
     "output_type": "stream",
     "text": [
      "(6, 314)\n",
      "   advances  advances made  advances made by    al  al khwarizmi  \\\n",
      "0      0.12           0.12              0.12  0.12          0.12   \n",
      "1      0.00           0.00              0.00  0.00          0.00   \n",
      "2      0.00           0.00              0.00  0.00          0.00   \n",
      "3      0.00           0.00              0.00  0.00          0.00   \n",
      "4      0.00           0.00              0.00  0.00          0.00   \n",
      "5      0.00           0.00              0.00  0.00          0.00   \n",
      "\n",
      "   al khwarizmi namely  algebra  algebra was  algebra was unifying  algebraic  \\\n",
      "0                 0.12     0.10         0.00                  0.00       0.00   \n",
      "1                 0.00     0.00         0.00                  0.00       0.00   \n",
      "2                 0.00     0.00         0.00                  0.00       0.00   \n",
      "3                 0.00     0.11         0.13                  0.13       0.11   \n",
      "4                 0.00     0.00         0.00                  0.00       0.00   \n",
      "5                 0.00     0.00         0.00                  0.00       0.10   \n",
      "\n",
      "   ...  which was essentially  whole  whole new  whole new development  with  \\\n",
      "0  ...                   0.00   0.00       0.00                   0.00  0.12   \n",
      "1  ...                   0.00   0.00       0.00                   0.00  0.00   \n",
      "2  ...                   0.16   0.00       0.00                   0.00  0.00   \n",
      "3  ...                   0.00   0.00       0.00                   0.00  0.00   \n",
      "4  ...                   0.00   0.12       0.12                   0.12  0.00   \n",
      "5  ...                   0.00   0.00       0.00                   0.00  0.00   \n",
      "\n",
      "   with the  with the work  work  work of  work of al  \n",
      "0      0.12           0.12  0.12     0.12        0.12  \n",
      "1      0.00           0.00  0.00     0.00        0.00  \n",
      "2      0.00           0.00  0.00     0.00        0.00  \n",
      "3      0.00           0.00  0.00     0.00        0.00  \n",
      "4      0.00           0.00  0.00     0.00        0.00  \n",
      "5      0.00           0.00  0.00     0.00        0.00  \n",
      "\n",
      "[6 rows x 314 columns]\n"
     ]
    }
   ],
   "source": [
    "from sklearn.feature_extraction.text import TfidfVectorizer\n",
    "import pandas as pd\n",
    "#tfidf = TfidfVectorizer(min_df=1)\n",
    "tfidf = TfidfVectorizer( ngram_range=(1,3))\n",
    "features_tfidf = tfidf.fit_transform(tokenized_paragraph)\n",
    "print(features_tfidf.shape)\n",
    "#print('Sparse Matrix :\\n', features_tfidf)\n",
    "features_tfidf = round(pd.DataFrame(features_tfidf.toarray()),2)\n",
    "features_tfidf.columns = tfidf.get_feature_names()\n",
    "print(features_tfidf)"
   ]
  },
  {
   "cell_type": "code",
   "execution_count": null,
   "id": "b4506958",
   "metadata": {},
   "outputs": [],
   "source": []
  }
 ],
 "metadata": {
  "kernelspec": {
   "display_name": "Python 3",
   "language": "python",
   "name": "python3"
  },
  "language_info": {
   "codemirror_mode": {
    "name": "ipython",
    "version": 3
   },
   "file_extension": ".py",
   "mimetype": "text/x-python",
   "name": "python",
   "nbconvert_exporter": "python",
   "pygments_lexer": "ipython3",
   "version": "3.8.8"
  }
 },
 "nbformat": 4,
 "nbformat_minor": 5
}
