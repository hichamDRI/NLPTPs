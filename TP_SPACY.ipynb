{
 "cells": [
  {
   "cell_type": "code",
   "execution_count": null,
   "id": "c60409ef",
   "metadata": {
    "tags": []
   },
   "outputs": [],
   "source": [
    "#python -m spacy download en_core_web_sm"
   ]
  },
  {
   "cell_type": "code",
   "execution_count": 5,
   "id": "1868736b-1ccb-4222-a8be-72ec163dd0d8",
   "metadata": {
    "scrolled": true,
    "tags": []
   },
   "outputs": [],
   "source": [
    "import spacy\n",
    "nlp = spacy.load('en_core_web_sm')\n",
    "\n",
    "introduction_text = (\"\"\"Perhaps one of the most significant advances made by Arabic mathematics began at this time with the work of al-Khwarizmi,namely the beginnings of algebra. It is important to understand just how significant this new idea was. It was a revolutionary move away from the Greek concept of mathematics which was essentially geometry. Algebra was a unifying theory which allowed rational numbers, irrational numbers, geometrical magnitudes, etc., to all be treated as \"algebraic objects\". It gave mathematics a whole new development path so much broader in concept to that which had existed before, and provided a vehicle for future development of the subject. Another important aspect of the introduction of algebraic ideas was that it allowed mathematics to be applied to itself in a way which had not happened before.\"\"\")\n",
    "about_doc = nlp(introduction_text)\n"
   ]
  },
  {
   "cell_type": "markdown",
   "id": "4b98dc9b",
   "metadata": {},
   "source": [
    "## Split Paragraph to word"
   ]
  },
  {
   "cell_type": "code",
   "execution_count": 6,
   "id": "10aca83a",
   "metadata": {},
   "outputs": [
    {
     "name": "stdout",
     "output_type": "stream",
     "text": [
      "['Perhaps', 'one', 'of', 'the', 'most', 'significant', 'advances', 'made', 'by', 'Arabic', 'mathematics', 'began', 'at', 'this', 'time', 'with', 'the', 'work', 'of', 'al', '-', 'Khwarizmi', ',', 'namely', 'the', 'beginnings', 'of', 'algebra', '.', 'It', 'is', 'important', 'to', 'understand', 'just', 'how', 'significant', 'this', 'new', 'idea', 'was', '.', 'It', 'was', 'a', 'revolutionary', 'move', 'away', 'from', 'the', 'Greek', 'concept', 'of', 'mathematics', 'which', 'was', 'essentially', 'geometry', '.', 'Algebra', 'was', 'a', 'unifying', 'theory', 'which', 'allowed', 'rational', 'numbers', ',', 'irrational', 'numbers', ',', 'geometrical', 'magnitudes', ',', 'etc', '.', ',', 'to', 'all', 'be', 'treated', 'as', '\"', 'algebraic', 'objects', '\"', '.', 'It', 'gave', 'mathematics', 'a', 'whole', 'new', 'development', 'path', 'so', 'much', 'broader', 'in', 'concept', 'to', 'that', 'which', 'had', 'existed', 'before', ',', 'and', 'provided', 'a', 'vehicle', 'for', 'future', 'development', 'of', 'the', 'subject', '.', 'Another', 'important', 'aspect', 'of', 'the', 'introduction', 'of', 'algebraic', 'ideas', 'was', 'that', 'it', 'allowed', 'mathematics', 'to', 'be', 'applied', 'to', 'itself', 'in', 'a', 'way', 'which', 'had', 'not', 'happened', 'before', '.']\n"
     ]
    }
   ],
   "source": [
    "# Extract tokens for the given doc\n",
    "print ([token.text for token in about_doc])"
   ]
  },
  {
   "cell_type": "markdown",
   "id": "d6069d8e",
   "metadata": {
    "tags": []
   },
   "source": [
    "## Split Paragraph to sentences"
   ]
  },
  {
   "cell_type": "code",
   "execution_count": 7,
   "id": "82c4aae1-8c5d-4be8-a5d0-da032aeea5af",
   "metadata": {},
   "outputs": [
    {
     "name": "stdout",
     "output_type": "stream",
     "text": [
      "Perhaps one of the most significant advances made by Arabic mathematics began at this time with the work of al-Khwarizmi,namely the beginnings of algebra.\n",
      "It is important to understand just how significant this new idea was.\n",
      "It was a revolutionary move away from the Greek concept of mathematics which was essentially geometry.\n",
      "Algebra was a unifying theory which allowed rational numbers, irrational numbers, geometrical magnitudes, etc., to all be treated as \"algebraic objects\".\n",
      "It gave mathematics a whole new development path so much broader in concept to that which had existed before, and provided a vehicle for future development of the subject.\n",
      "Another important aspect of the introduction of algebraic ideas was that it allowed mathematics to be applied to itself in a way which had not happened before.\n"
     ]
    }
   ],
   "source": [
    "sentences = list(about_doc.sents)\n",
    "for sentence in sentences:\n",
    "    print (sentence)"
   ]
  },
  {
   "cell_type": "markdown",
   "id": "978e70b6",
   "metadata": {},
   "source": [
    "## Tokenization"
   ]
  },
  {
   "cell_type": "code",
   "execution_count": 8,
   "id": "78fb161d-ee91-4ca0-b442-8d8732affcbd",
   "metadata": {},
   "outputs": [
    {
     "name": "stdout",
     "output_type": "stream",
     "text": [
      "Perhaps 0 Perhaps  True False False Xxxxx True\n",
      "one 8 one  True False False xxx True\n",
      "of 12 of  True False False xx True\n",
      "the 15 the  True False False xxx True\n",
      "most 19 most  True False False xxxx True\n",
      "significant 24 significant  True False False xxxx False\n",
      "advances 36 advances  True False False xxxx False\n",
      "made 45 made  True False False xxxx True\n",
      "by 50 by  True False False xx True\n",
      "Arabic 53 Arabic  True False False Xxxxx False\n",
      "mathematics 60 mathematics  True False False xxxx False\n",
      "began 72 began  True False False xxxx False\n",
      "at 78 at  True False False xx True\n",
      "this 81 this  True False False xxxx True\n",
      "time 86 time  True False False xxxx False\n",
      "with 91 with  True False False xxxx True\n",
      "the 96 the  True False False xxx True\n",
      "work 100 work  True False False xxxx False\n",
      "of 105 of  True False False xx True\n",
      "al 108 al True False False xx False\n"
     ]
    }
   ],
   "source": [
    "for token in about_doc[:20]:\n",
    "    print (token, token.idx, token.text_with_ws,\n",
    "            token.is_alpha, token.is_punct, token.is_space,\n",
    "            token.shape_, token.is_stop)"
   ]
  },
  {
   "cell_type": "markdown",
   "id": "dd5118fe",
   "metadata": {},
   "source": [
    "## Listing Stop Word"
   ]
  },
  {
   "cell_type": "code",
   "execution_count": 9,
   "id": "94fd3567-3547-4e67-91f7-b82311460346",
   "metadata": {
    "tags": []
   },
   "outputs": [
    {
     "name": "stdout",
     "output_type": "stream",
     "text": [
      "upon\n",
      "anyhow\n",
      "’d\n",
      "really\n",
      "quite\n",
      "besides\n",
      "they\n",
      "himself\n",
      "anyone\n",
      "where\n"
     ]
    }
   ],
   "source": [
    "import spacy\n",
    "from spacy.lang.en import English\n",
    "spacy_stopwords = spacy.lang.en.stop_words.STOP_WORDS\n",
    "len(spacy_stopwords)\n",
    "for stop_word in list(spacy_stopwords)[:10]:\n",
    "    print(stop_word)\n"
   ]
  },
  {
   "cell_type": "markdown",
   "id": "6909f342",
   "metadata": {
    "tags": []
   },
   "source": [
    "## Remove stop words and punctuation\n"
   ]
  },
  {
   "cell_type": "code",
   "execution_count": 10,
   "id": "8563514b-df81-4456-80d2-800ea2e65343",
   "metadata": {},
   "outputs": [
    {
     "name": "stdout",
     "output_type": "stream",
     "text": [
      "significant advances Arabic mathematics began time work al Khwarizmi beginnings algebra important understand significant new idea revolutionary away Greek concept mathematics essentially geometry Algebra unifying theory allowed rational numbers irrational numbers geometrical magnitudes etc treated algebraic objects gave mathematics new development path broader concept existed provided vehicle future development subject important aspect introduction algebraic ideas allowed mathematics applied way happened "
     ]
    }
   ],
   "source": [
    "for token in about_doc:\n",
    "    if not token.is_stop and not token.is_punct and token.is_alpha :\n",
    "        print(token,end=\" \")"
   ]
  },
  {
   "cell_type": "markdown",
   "id": "c611ef58",
   "metadata": {},
   "source": [
    "## Lemmatisation"
   ]
  },
  {
   "cell_type": "code",
   "execution_count": 11,
   "id": "c3ba0062-f28c-4df0-9f86-9c20b37cb7e9",
   "metadata": {},
   "outputs": [
    {
     "name": "stdout",
     "output_type": "stream",
     "text": [
      "Perhaps >>>> perhaps\n",
      "one >>>> one\n",
      "of >>>> of\n",
      "the >>>> the\n",
      "most >>>> most\n",
      "significant >>>> significant\n",
      "advances >>>> advance\n",
      "made >>>> make\n",
      "by >>>> by\n",
      "Arabic >>>> arabic\n",
      "mathematics >>>> mathematic\n",
      "began >>>> begin\n",
      "at >>>> at\n",
      "this >>>> this\n",
      "time >>>> time\n",
      "with >>>> with\n",
      "the >>>> the\n",
      "work >>>> work\n",
      "of >>>> of\n",
      "al >>>> al\n",
      "- >>>> -\n",
      "Khwarizmi >>>> Khwarizmi\n",
      ", >>>> ,\n",
      "namely >>>> namely\n",
      "the >>>> the\n",
      "beginnings >>>> beginning\n",
      "of >>>> of\n",
      "algebra >>>> algebra\n",
      ". >>>> .\n",
      "It >>>> it\n",
      "is >>>> be\n",
      "important >>>> important\n",
      "to >>>> to\n",
      "understand >>>> understand\n",
      "just >>>> just\n",
      "how >>>> how\n",
      "significant >>>> significant\n",
      "this >>>> this\n",
      "new >>>> new\n",
      "idea >>>> idea\n",
      "was >>>> be\n",
      ". >>>> .\n",
      "It >>>> it\n",
      "was >>>> be\n",
      "a >>>> a\n",
      "revolutionary >>>> revolutionary\n",
      "move >>>> move\n",
      "away >>>> away\n",
      "from >>>> from\n",
      "the >>>> the\n",
      "Greek >>>> greek\n",
      "concept >>>> concept\n",
      "of >>>> of\n",
      "mathematics >>>> mathematic\n",
      "which >>>> which\n",
      "was >>>> be\n",
      "essentially >>>> essentially\n",
      "geometry >>>> geometry\n",
      ". >>>> .\n",
      "Algebra >>>> Algebra\n",
      "was >>>> be\n",
      "a >>>> a\n",
      "unifying >>>> unifying\n",
      "theory >>>> theory\n",
      "which >>>> which\n",
      "allowed >>>> allow\n",
      "rational >>>> rational\n",
      "numbers >>>> number\n",
      ", >>>> ,\n",
      "irrational >>>> irrational\n",
      "numbers >>>> number\n",
      ", >>>> ,\n",
      "geometrical >>>> geometrical\n",
      "magnitudes >>>> magnitude\n",
      ", >>>> ,\n",
      "etc >>>> etc\n",
      ". >>>> .\n",
      ", >>>> ,\n",
      "to >>>> to\n",
      "all >>>> all\n",
      "be >>>> be\n",
      "treated >>>> treat\n",
      "as >>>> as\n",
      "\" >>>> \"\n",
      "algebraic >>>> algebraic\n",
      "objects >>>> object\n",
      "\" >>>> \"\n",
      ". >>>> .\n",
      "It >>>> it\n",
      "gave >>>> give\n",
      "mathematics >>>> mathematic\n",
      "a >>>> a\n",
      "whole >>>> whole\n",
      "new >>>> new\n",
      "development >>>> development\n",
      "path >>>> path\n",
      "so >>>> so\n",
      "much >>>> much\n",
      "broader >>>> broad\n",
      "in >>>> in\n",
      "concept >>>> concept\n",
      "to >>>> to\n",
      "that >>>> that\n",
      "which >>>> which\n",
      "had >>>> have\n",
      "existed >>>> exist\n",
      "before >>>> before\n",
      ", >>>> ,\n",
      "and >>>> and\n",
      "provided >>>> provide\n",
      "a >>>> a\n",
      "vehicle >>>> vehicle\n",
      "for >>>> for\n",
      "future >>>> future\n",
      "development >>>> development\n",
      "of >>>> of\n",
      "the >>>> the\n",
      "subject >>>> subject\n",
      ". >>>> .\n",
      "Another >>>> another\n",
      "important >>>> important\n",
      "aspect >>>> aspect\n",
      "of >>>> of\n",
      "the >>>> the\n",
      "introduction >>>> introduction\n",
      "of >>>> of\n",
      "algebraic >>>> algebraic\n",
      "ideas >>>> idea\n",
      "was >>>> be\n",
      "that >>>> that\n",
      "it >>>> it\n",
      "allowed >>>> allow\n",
      "mathematics >>>> mathematic\n",
      "to >>>> to\n",
      "be >>>> be\n",
      "applied >>>> apply\n",
      "to >>>> to\n",
      "itself >>>> itself\n",
      "in >>>> in\n",
      "a >>>> a\n",
      "way >>>> way\n",
      "which >>>> which\n",
      "had >>>> have\n",
      "not >>>> not\n",
      "happened >>>> happen\n",
      "before >>>> before\n",
      ". >>>> .\n"
     ]
    }
   ],
   "source": [
    "for token in about_doc:\n",
    "    print (token, \">>>> \"+token.lemma_)"
   ]
  },
  {
   "cell_type": "markdown",
   "id": "583521dc",
   "metadata": {},
   "source": [
    "## Part of Speech Tagging"
   ]
  },
  {
   "cell_type": "code",
   "execution_count": 12,
   "id": "b029e91b",
   "metadata": {},
   "outputs": [
    {
     "name": "stdout",
     "output_type": "stream",
     "text": [
      "Perhaps RB ADV adverb\n",
      "one CD NUM cardinal number\n",
      "of IN ADP conjunction, subordinating or preposition\n",
      "the DT DET determiner\n",
      "most RBS ADV adverb, superlative\n",
      "significant JJ ADJ adjective\n",
      "advances NNS NOUN noun, plural\n",
      "made VBN VERB verb, past participle\n",
      "by IN ADP conjunction, subordinating or preposition\n",
      "Arabic JJ ADJ adjective\n",
      "mathematics NNS NOUN noun, plural\n",
      "began VBD VERB verb, past tense\n",
      "at IN ADP conjunction, subordinating or preposition\n",
      "this DT DET determiner\n",
      "time NN NOUN noun, singular or mass\n",
      "with IN ADP conjunction, subordinating or preposition\n",
      "the DT DET determiner\n",
      "work NN NOUN noun, singular or mass\n",
      "of IN ADP conjunction, subordinating or preposition\n",
      "al NNP PROPN noun, proper singular\n",
      "- HYPH PUNCT punctuation mark, hyphen\n",
      "Khwarizmi NNP PROPN noun, proper singular\n",
      ", , PUNCT punctuation mark, comma\n",
      "namely RB ADV adverb\n",
      "the DT DET determiner\n",
      "beginnings NNS NOUN noun, plural\n",
      "of IN ADP conjunction, subordinating or preposition\n",
      "algebra NNS NOUN noun, plural\n",
      ". . PUNCT punctuation mark, sentence closer\n",
      "It PRP PRON pronoun, personal\n",
      "is VBZ AUX verb, 3rd person singular present\n",
      "important JJ ADJ adjective\n",
      "to TO PART infinitival \"to\"\n",
      "understand VB VERB verb, base form\n",
      "just RB ADV adverb\n",
      "how WRB ADV wh-adverb\n",
      "significant JJ ADJ adjective\n",
      "this DT DET determiner\n",
      "new JJ ADJ adjective\n",
      "idea NN NOUN noun, singular or mass\n",
      "was VBD AUX verb, past tense\n",
      ". . PUNCT punctuation mark, sentence closer\n",
      "It PRP PRON pronoun, personal\n",
      "was VBD AUX verb, past tense\n",
      "a DT DET determiner\n",
      "revolutionary JJ ADJ adjective\n",
      "move NN NOUN noun, singular or mass\n",
      "away RB ADV adverb\n",
      "from IN ADP conjunction, subordinating or preposition\n",
      "the DT DET determiner\n",
      "Greek JJ ADJ adjective\n",
      "concept NN NOUN noun, singular or mass\n",
      "of IN ADP conjunction, subordinating or preposition\n",
      "mathematics NNS NOUN noun, plural\n",
      "which WDT DET wh-determiner\n",
      "was VBD VERB verb, past tense\n",
      "essentially RB ADV adverb\n",
      "geometry NN NOUN noun, singular or mass\n",
      ". . PUNCT punctuation mark, sentence closer\n",
      "Algebra NNP PROPN noun, proper singular\n",
      "was VBD AUX verb, past tense\n",
      "a DT DET determiner\n",
      "unifying JJ ADJ adjective\n",
      "theory NN NOUN noun, singular or mass\n",
      "which WDT DET wh-determiner\n",
      "allowed VBD VERB verb, past tense\n",
      "rational JJ ADJ adjective\n",
      "numbers NNS NOUN noun, plural\n",
      ", , PUNCT punctuation mark, comma\n",
      "irrational JJ ADJ adjective\n",
      "numbers NNS NOUN noun, plural\n",
      ", , PUNCT punctuation mark, comma\n",
      "geometrical JJ ADJ adjective\n",
      "magnitudes NNS NOUN noun, plural\n",
      ", , PUNCT punctuation mark, comma\n",
      "etc FW X foreign word\n",
      ". FW X foreign word\n",
      ", , PUNCT punctuation mark, comma\n",
      "to IN ADP conjunction, subordinating or preposition\n",
      "all DT DET determiner\n",
      "be VB AUX verb, base form\n",
      "treated VBN VERB verb, past participle\n",
      "as IN ADP conjunction, subordinating or preposition\n",
      "\" `` PUNCT opening quotation mark\n",
      "algebraic JJ ADJ adjective\n",
      "objects NNS NOUN noun, plural\n",
      "\" '' PUNCT closing quotation mark\n",
      ". . PUNCT punctuation mark, sentence closer\n",
      "It PRP PRON pronoun, personal\n",
      "gave VBD VERB verb, past tense\n",
      "mathematics NNS NOUN noun, plural\n",
      "a DT DET determiner\n",
      "whole JJ ADJ adjective\n",
      "new JJ ADJ adjective\n",
      "development NN NOUN noun, singular or mass\n",
      "path NN NOUN noun, singular or mass\n",
      "so RB ADV adverb\n",
      "much RB ADV adverb\n",
      "broader JJR ADJ adjective, comparative\n",
      "in IN ADP conjunction, subordinating or preposition\n",
      "concept NN NOUN noun, singular or mass\n",
      "to IN ADP conjunction, subordinating or preposition\n",
      "that DT DET determiner\n",
      "which WDT DET wh-determiner\n",
      "had VBD AUX verb, past tense\n",
      "existed VBN VERB verb, past participle\n",
      "before RB ADV adverb\n",
      ", , PUNCT punctuation mark, comma\n",
      "and CC CCONJ conjunction, coordinating\n",
      "provided VBD VERB verb, past tense\n",
      "a DT DET determiner\n",
      "vehicle NN NOUN noun, singular or mass\n",
      "for IN ADP conjunction, subordinating or preposition\n",
      "future JJ ADJ adjective\n",
      "development NN NOUN noun, singular or mass\n",
      "of IN ADP conjunction, subordinating or preposition\n",
      "the DT DET determiner\n",
      "subject NN NOUN noun, singular or mass\n",
      ". . PUNCT punctuation mark, sentence closer\n",
      "Another DT DET determiner\n",
      "important JJ ADJ adjective\n",
      "aspect NN NOUN noun, singular or mass\n",
      "of IN ADP conjunction, subordinating or preposition\n",
      "the DT DET determiner\n",
      "introduction NN NOUN noun, singular or mass\n",
      "of IN ADP conjunction, subordinating or preposition\n",
      "algebraic JJ ADJ adjective\n",
      "ideas NNS NOUN noun, plural\n",
      "was VBD AUX verb, past tense\n",
      "that IN SCONJ conjunction, subordinating or preposition\n",
      "it PRP PRON pronoun, personal\n",
      "allowed VBD VERB verb, past tense\n",
      "mathematics NNS NOUN noun, plural\n",
      "to TO PART infinitival \"to\"\n",
      "be VB AUX verb, base form\n",
      "applied VBN VERB verb, past participle\n",
      "to IN ADP conjunction, subordinating or preposition\n",
      "itself PRP PRON pronoun, personal\n",
      "in IN ADP conjunction, subordinating or preposition\n",
      "a DT DET determiner\n",
      "way NN NOUN noun, singular or mass\n",
      "which WDT DET wh-determiner\n",
      "had VBD AUX verb, past tense\n",
      "not RB PART adverb\n",
      "happened VBN VERB verb, past participle\n",
      "before RB ADV adverb\n",
      ". . PUNCT punctuation mark, sentence closer\n"
     ]
    }
   ],
   "source": [
    "for token in about_doc:\n",
    "    print (token, token.tag_, token.pos_, spacy.explain(token.tag_))"
   ]
  },
  {
   "cell_type": "code",
   "execution_count": null,
   "id": "23e1dde7",
   "metadata": {},
   "outputs": [],
   "source": []
  }
 ],
 "metadata": {
  "kernelspec": {
   "display_name": "Python 3",
   "language": "python",
   "name": "python3"
  },
  "language_info": {
   "codemirror_mode": {
    "name": "ipython",
    "version": 3
   },
   "file_extension": ".py",
   "mimetype": "text/x-python",
   "name": "python",
   "nbconvert_exporter": "python",
   "pygments_lexer": "ipython3",
   "version": "3.8.8"
  }
 },
 "nbformat": 4,
 "nbformat_minor": 5
}
